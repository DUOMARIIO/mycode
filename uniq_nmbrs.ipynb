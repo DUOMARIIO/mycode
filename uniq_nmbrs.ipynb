{
 "cells": [
  {
   "cell_type": "code",
   "execution_count": 223,
   "metadata": {},
   "outputs": [],
   "source": [
    "import pandas as pd\n",
    "import numpy as np"
   ]
  },
  {
   "cell_type": "code",
   "execution_count": 202,
   "metadata": {},
   "outputs": [
    {
     "data": {
      "text/html": [
       "<div>\n",
       "<style scoped>\n",
       "    .dataframe tbody tr th:only-of-type {\n",
       "        vertical-align: middle;\n",
       "    }\n",
       "\n",
       "    .dataframe tbody tr th {\n",
       "        vertical-align: top;\n",
       "    }\n",
       "\n",
       "    .dataframe thead th {\n",
       "        text-align: right;\n",
       "    }\n",
       "</style>\n",
       "<table border=\"1\" class=\"dataframe\">\n",
       "  <thead>\n",
       "    <tr style=\"text-align: right;\">\n",
       "      <th></th>\n",
       "      <th>№</th>\n",
       "      <th>Номер1 (исп)</th>\n",
       "      <th>Номер2 (исп)</th>\n",
       "    </tr>\n",
       "  </thead>\n",
       "  <tbody>\n",
       "    <tr>\n",
       "      <th>0</th>\n",
       "      <td>1</td>\n",
       "      <td>79772704850</td>\n",
       "      <td>79772704850</td>\n",
       "    </tr>\n",
       "    <tr>\n",
       "      <th>1</th>\n",
       "      <td>2</td>\n",
       "      <td>79615034800</td>\n",
       "      <td>79615034800</td>\n",
       "    </tr>\n",
       "    <tr>\n",
       "      <th>2</th>\n",
       "      <td>3</td>\n",
       "      <td>79219089110</td>\n",
       "      <td>79219089111</td>\n",
       "    </tr>\n",
       "    <tr>\n",
       "      <th>3</th>\n",
       "      <td>4</td>\n",
       "      <td>79772704850</td>\n",
       "      <td>79060295744</td>\n",
       "    </tr>\n",
       "    <tr>\n",
       "      <th>4</th>\n",
       "      <td>5</td>\n",
       "      <td>79531117704</td>\n",
       "      <td>79531117704</td>\n",
       "    </tr>\n",
       "    <tr>\n",
       "      <th>5</th>\n",
       "      <td>6</td>\n",
       "      <td>79219089111</td>\n",
       "      <td>79534817900</td>\n",
       "    </tr>\n",
       "    <tr>\n",
       "      <th>6</th>\n",
       "      <td>7</td>\n",
       "      <td>79267649094</td>\n",
       "      <td>79615034800</td>\n",
       "    </tr>\n",
       "    <tr>\n",
       "      <th>7</th>\n",
       "      <td>8</td>\n",
       "      <td>79038625201</td>\n",
       "      <td>79038625201</td>\n",
       "    </tr>\n",
       "    <tr>\n",
       "      <th>8</th>\n",
       "      <td>9</td>\n",
       "      <td>79117858725</td>\n",
       "      <td>79038625201</td>\n",
       "    </tr>\n",
       "  </tbody>\n",
       "</table>\n",
       "</div>"
      ],
      "text/plain": [
       "   №  Номер1 (исп)  Номер2 (исп)\n",
       "0  1   79772704850   79772704850\n",
       "1  2   79615034800   79615034800\n",
       "2  3   79219089110   79219089111\n",
       "3  4   79772704850   79060295744\n",
       "4  5   79531117704   79531117704\n",
       "5  6   79219089111   79534817900\n",
       "6  7   79267649094   79615034800\n",
       "7  8   79038625201   79038625201\n",
       "8  9   79117858725   79038625201"
      ]
     },
     "execution_count": 202,
     "metadata": {},
     "output_type": "execute_result"
    }
   ],
   "source": [
    "#наш датасет\n",
    "df = pd.read_excel(r'C:\\dz\\calls.xlsx').drop(['Unnamed: 3','Результат'], axis =1)\n",
    "df"
   ]
  },
  {
   "cell_type": "code",
   "execution_count": 203,
   "metadata": {},
   "outputs": [],
   "source": [
    "#функция, которая возвращает связки, где один и тот же номер\n",
    "def pairs(a,b):\n",
    "    i = 0\n",
    "    c = []\n",
    "    while i<(len(df['№'])):\n",
    "        if a[i]==b[i]:\n",
    "            c.append(df['№'][i]-1)\n",
    "        i+=1      \n",
    "    return(c)"
   ]
  },
  {
   "cell_type": "code",
   "execution_count": 204,
   "metadata": {},
   "outputs": [],
   "source": [
    "a = df['Номер1 (исп)']\n",
    "b = df['Номер2 (исп)']"
   ]
  },
  {
   "cell_type": "code",
   "execution_count": 205,
   "metadata": {},
   "outputs": [
    {
     "data": {
      "text/plain": [
       "[0, 1, 4, 7]"
      ]
     },
     "execution_count": 205,
     "metadata": {},
     "output_type": "execute_result"
    }
   ],
   "source": [
    "c = pairs(a,b)\n",
    "c"
   ]
  },
  {
   "cell_type": "code",
   "execution_count": 207,
   "metadata": {},
   "outputs": [
    {
     "data": {
      "text/html": [
       "<div>\n",
       "<style scoped>\n",
       "    .dataframe tbody tr th:only-of-type {\n",
       "        vertical-align: middle;\n",
       "    }\n",
       "\n",
       "    .dataframe tbody tr th {\n",
       "        vertical-align: top;\n",
       "    }\n",
       "\n",
       "    .dataframe thead th {\n",
       "        text-align: right;\n",
       "    }\n",
       "</style>\n",
       "<table border=\"1\" class=\"dataframe\">\n",
       "  <thead>\n",
       "    <tr style=\"text-align: right;\">\n",
       "      <th></th>\n",
       "      <th>№</th>\n",
       "      <th>Номер1 (исп)</th>\n",
       "      <th>Номер2 (исп)</th>\n",
       "    </tr>\n",
       "  </thead>\n",
       "  <tbody>\n",
       "    <tr>\n",
       "      <th>2</th>\n",
       "      <td>3</td>\n",
       "      <td>79219089110</td>\n",
       "      <td>79219089111</td>\n",
       "    </tr>\n",
       "    <tr>\n",
       "      <th>3</th>\n",
       "      <td>4</td>\n",
       "      <td>79772704850</td>\n",
       "      <td>79060295744</td>\n",
       "    </tr>\n",
       "    <tr>\n",
       "      <th>5</th>\n",
       "      <td>6</td>\n",
       "      <td>79219089111</td>\n",
       "      <td>79534817900</td>\n",
       "    </tr>\n",
       "    <tr>\n",
       "      <th>6</th>\n",
       "      <td>7</td>\n",
       "      <td>79267649094</td>\n",
       "      <td>79615034800</td>\n",
       "    </tr>\n",
       "    <tr>\n",
       "      <th>8</th>\n",
       "      <td>9</td>\n",
       "      <td>79117858725</td>\n",
       "      <td>79038625201</td>\n",
       "    </tr>\n",
       "  </tbody>\n",
       "</table>\n",
       "</div>"
      ],
      "text/plain": [
       "   №  Номер1 (исп)  Номер2 (исп)\n",
       "2  3   79219089110   79219089111\n",
       "3  4   79772704850   79060295744\n",
       "5  6   79219089111   79534817900\n",
       "6  7   79267649094   79615034800\n",
       "8  9   79117858725   79038625201"
      ]
     },
     "execution_count": 207,
     "metadata": {},
     "output_type": "execute_result"
    }
   ],
   "source": [
    "#новый датасет, где нет связок с уникальным номером\n",
    "df_npairs = df.drop(c)\n",
    "df_npairs"
   ]
  },
  {
   "cell_type": "code",
   "execution_count": 208,
   "metadata": {},
   "outputs": [],
   "source": [
    "# массив связок где один и тот же номер\n",
    "df_pairs = df['Номер1 (исп)'][c]"
   ]
  },
  {
   "cell_type": "code",
   "execution_count": 209,
   "metadata": {},
   "outputs": [],
   "source": [
    "#массив, где нет связок одинаковых номеров\n",
    "conc = pd.concat([df_npairs['Номер1 (исп)'], df_npairs['Номер2 (исп)']])"
   ]
  },
  {
   "cell_type": "code",
   "execution_count": 216,
   "metadata": {},
   "outputs": [],
   "source": [
    "#функция которая возвращает массив номеров из связок, которые встречаются более одного раза (т.е. встречаютс не только в связке)\n",
    "def uni(x,y):\n",
    "    c = []\n",
    "    for i in x:\n",
    "        for j in y:\n",
    "            if i == j:\n",
    "                c.append(i)\n",
    "    return(c)\n",
    "            "
   ]
  },
  {
   "cell_type": "code",
   "execution_count": 212,
   "metadata": {},
   "outputs": [
    {
     "data": {
      "text/plain": [
       "[79772704850, 79615034800, 79038625201]"
      ]
     },
     "execution_count": 212,
     "metadata": {},
     "output_type": "execute_result"
    }
   ],
   "source": [
    "#массив из связок, где номер встречается больше раза (заюзали uni функцию)\n",
    "dubl =uni(df_pairs, conc)\n",
    "dubl"
   ]
  },
  {
   "cell_type": "code",
   "execution_count": 219,
   "metadata": {},
   "outputs": [
    {
     "data": {
      "text/plain": [
       "[79772704850, 79615034800, 79531117704, 79038625201]"
      ]
     },
     "execution_count": 219,
     "metadata": {},
     "output_type": "execute_result"
    }
   ],
   "source": [
    "prs= []\n",
    "for i in df_pairs:\n",
    "    prs.append(i)\n",
    "prs"
   ]
  },
  {
   "cell_type": "code",
   "execution_count": 229,
   "metadata": {},
   "outputs": [
    {
     "data": {
      "text/plain": [
       "array([ True,  True, False,  True])"
      ]
     },
     "execution_count": 229,
     "metadata": {},
     "output_type": "execute_result"
    }
   ],
   "source": [
    "finale = np.in1d(prs, dubl)\n",
    "finale"
   ]
  },
  {
   "cell_type": "code",
   "execution_count": 237,
   "metadata": {},
   "outputs": [
    {
     "data": {
      "text/plain": [
       "79531117704"
      ]
     },
     "execution_count": 237,
     "metadata": {},
     "output_type": "execute_result"
    }
   ],
   "source": [
    "\n",
    "prs[2]"
   ]
  },
  {
   "cell_type": "code",
   "execution_count": 234,
   "metadata": {},
   "outputs": [],
   "source": [
    "df['status']=['повтор','повтор','повтор','повтор','уникальный','повтор','повтор','повтор','повтор']"
   ]
  },
  {
   "cell_type": "code",
   "execution_count": 235,
   "metadata": {},
   "outputs": [
    {
     "data": {
      "text/html": [
       "<div>\n",
       "<style scoped>\n",
       "    .dataframe tbody tr th:only-of-type {\n",
       "        vertical-align: middle;\n",
       "    }\n",
       "\n",
       "    .dataframe tbody tr th {\n",
       "        vertical-align: top;\n",
       "    }\n",
       "\n",
       "    .dataframe thead th {\n",
       "        text-align: right;\n",
       "    }\n",
       "</style>\n",
       "<table border=\"1\" class=\"dataframe\">\n",
       "  <thead>\n",
       "    <tr style=\"text-align: right;\">\n",
       "      <th></th>\n",
       "      <th>№</th>\n",
       "      <th>Номер1 (исп)</th>\n",
       "      <th>Номер2 (исп)</th>\n",
       "      <th>status</th>\n",
       "    </tr>\n",
       "  </thead>\n",
       "  <tbody>\n",
       "    <tr>\n",
       "      <th>0</th>\n",
       "      <td>1</td>\n",
       "      <td>79772704850</td>\n",
       "      <td>79772704850</td>\n",
       "      <td>повтор</td>\n",
       "    </tr>\n",
       "    <tr>\n",
       "      <th>1</th>\n",
       "      <td>2</td>\n",
       "      <td>79615034800</td>\n",
       "      <td>79615034800</td>\n",
       "      <td>повтор</td>\n",
       "    </tr>\n",
       "    <tr>\n",
       "      <th>2</th>\n",
       "      <td>3</td>\n",
       "      <td>79219089110</td>\n",
       "      <td>79219089111</td>\n",
       "      <td>повтор</td>\n",
       "    </tr>\n",
       "    <tr>\n",
       "      <th>3</th>\n",
       "      <td>4</td>\n",
       "      <td>79772704850</td>\n",
       "      <td>79060295744</td>\n",
       "      <td>повтор</td>\n",
       "    </tr>\n",
       "    <tr>\n",
       "      <th>4</th>\n",
       "      <td>5</td>\n",
       "      <td>79531117704</td>\n",
       "      <td>79531117704</td>\n",
       "      <td>уникальный</td>\n",
       "    </tr>\n",
       "    <tr>\n",
       "      <th>5</th>\n",
       "      <td>6</td>\n",
       "      <td>79219089111</td>\n",
       "      <td>79534817900</td>\n",
       "      <td>повтор</td>\n",
       "    </tr>\n",
       "    <tr>\n",
       "      <th>6</th>\n",
       "      <td>7</td>\n",
       "      <td>79267649094</td>\n",
       "      <td>79615034800</td>\n",
       "      <td>повтор</td>\n",
       "    </tr>\n",
       "    <tr>\n",
       "      <th>7</th>\n",
       "      <td>8</td>\n",
       "      <td>79038625201</td>\n",
       "      <td>79038625201</td>\n",
       "      <td>повтор</td>\n",
       "    </tr>\n",
       "    <tr>\n",
       "      <th>8</th>\n",
       "      <td>9</td>\n",
       "      <td>79117858725</td>\n",
       "      <td>79038625201</td>\n",
       "      <td>повтор</td>\n",
       "    </tr>\n",
       "  </tbody>\n",
       "</table>\n",
       "</div>"
      ],
      "text/plain": [
       "   №  Номер1 (исп)  Номер2 (исп)      status\n",
       "0  1   79772704850   79772704850      повтор\n",
       "1  2   79615034800   79615034800      повтор\n",
       "2  3   79219089110   79219089111      повтор\n",
       "3  4   79772704850   79060295744      повтор\n",
       "4  5   79531117704   79531117704  уникальный\n",
       "5  6   79219089111   79534817900      повтор\n",
       "6  7   79267649094   79615034800      повтор\n",
       "7  8   79038625201   79038625201      повтор\n",
       "8  9   79117858725   79038625201      повтор"
      ]
     },
     "execution_count": 235,
     "metadata": {},
     "output_type": "execute_result"
    }
   ],
   "source": [
    "df"
   ]
  },
  {
   "cell_type": "code",
   "execution_count": null,
   "metadata": {},
   "outputs": [],
   "source": []
  }
 ],
 "metadata": {
  "kernelspec": {
   "display_name": "Python 3",
   "language": "python",
   "name": "python3"
  },
  "language_info": {
   "codemirror_mode": {
    "name": "ipython",
    "version": 3
   },
   "file_extension": ".py",
   "mimetype": "text/x-python",
   "name": "python",
   "nbconvert_exporter": "python",
   "pygments_lexer": "ipython3",
   "version": "3.7.3"
  }
 },
 "nbformat": 4,
 "nbformat_minor": 2
}
